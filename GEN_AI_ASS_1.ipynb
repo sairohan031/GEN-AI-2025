{
  "nbformat": 4,
  "nbformat_minor": 0,
  "metadata": {
    "colab": {
      "provenance": []
    },
    "kernelspec": {
      "name": "python3",
      "display_name": "Python 3"
    },
    "language_info": {
      "name": "python"
    }
  },
  "cells": [
    {
      "cell_type": "markdown",
      "source": [
        "# question-1"
      ],
      "metadata": {
        "id": "QNNUNDtq7fT5"
      }
    },
    {
      "cell_type": "code",
      "execution_count": 4,
      "metadata": {
        "colab": {
          "base_uri": "https://localhost:8080/"
        },
        "id": "qa_Xsx7X4fwv",
        "outputId": "276d266f-1922-4146-94c6-1714e44a085f"
      },
      "outputs": [
        {
          "output_type": "stream",
          "name": "stdout",
          "text": [
            "Error Metrics Calculated From Scratch:\n",
            "Mean Absolute Error (MAE): 0.4600000000000016\n",
            "Mean Squared Error (MSE): 0.24600000000000147\n",
            "Root Mean Squared Error (RMSE): 0.49598387070549127\n",
            "\n",
            "Error Metrics Calculated Using Libraries:\n",
            "Mean Absolute Error (MAE): 0.4600000000000016\n",
            "Mean Squared Error (MSE): 0.24600000000000147\n",
            "Root Mean Squared Error (RMSE): 0.49598387070549127\n"
          ]
        }
      ],
      "source": [
        "import numpy as np\n",
        "from sklearn.metrics import mean_absolute_error, mean_squared_error\n",
        "\n",
        "Y_actual = [20, 30, 40, 50, 60]\n",
        "Y_pred = [20.5, 30.3, 40.2, 50.6, 60.7]\n",
        "\n",
        "def calculate_metrics_from_scratch(y_actual, y_pred):\n",
        "    n = len(y_actual)\n",
        "    absolute_errors = [abs(y_a - y_p) for y_a, y_p in zip(y_actual, y_pred)]\n",
        "    squared_errors = [(y_a - y_p) ** 2 for y_a, y_p in zip(y_actual, y_pred)]\n",
        "\n",
        "    mae = sum(absolute_errors) / n\n",
        "    mse = sum(squared_errors) / n\n",
        "    rmse = mse ** 0.5\n",
        "\n",
        "    return mae, mse, rmse\n",
        "mae_scratch, mse_scratch, rmse_scratch = calculate_metrics_from_scratch(Y_actual, Y_pred)\n",
        "\n",
        "mae_lib = mean_absolute_error(Y_actual, Y_pred)\n",
        "mse_lib = mean_squared_error(Y_actual, Y_pred)\n",
        "rmse_lib = np.sqrt(mse_lib)\n",
        "\n",
        "print(\"Error Metrics Calculated From Scratch:\")\n",
        "print(f\"Mean Absolute Error (MAE): {mae_scratch}\")\n",
        "print(f\"Mean Squared Error (MSE): {mse_scratch}\")\n",
        "print(f\"Root Mean Squared Error (RMSE): {rmse_scratch}\")\n",
        "\n",
        "print(\"\\nError Metrics Calculated Using Libraries:\")\n",
        "print(f\"Mean Absolute Error (MAE): {mae_lib}\")\n",
        "print(f\"Mean Squared Error (MSE): {mse_lib}\")\n",
        "print(f\"Root Mean Squared Error (RMSE): {rmse_lib}\")\n"
      ]
    },
    {
      "cell_type": "markdown",
      "source": [
        "# question-2"
      ],
      "metadata": {
        "id": "-0Xajes37l4R"
      }
    },
    {
      "cell_type": "code",
      "source": [
        "import numpy as np\n",
        "from sklearn.metrics import accuracy_score, precision_score, recall_score, f1_score\n",
        "\n",
        "Y_actual = [0, 0, 1, 1, 2, 0, 0, 0, 1, 0, 2, 0, 0, 1, 1, 2, 2, 1, 0, 2, 1, 0, 2, 2, 0, 2, 1, 2, 2, 2]\n",
        "Y_pred = [0, 0, 1, 0, 2, 0, 0, 1, 1, 2, 2, 1, 0, 2, 1, 0, 2, 2, 0, 2, 1, 2, 2, 2, 0, 2, 1, 2, 2, 2]\n",
        "\n",
        "def calculate_metrics_from_scratch(y_actual, y_pred):\n",
        "    n = len(y_actual)\n",
        "    tp = [0] * 3\n",
        "    fp = [0] * 3\n",
        "    fn = [0] * 3\n",
        "\n",
        "    for a, p in zip(y_actual, y_pred):\n",
        "        if a == p:\n",
        "            tp[a] += 1\n",
        "        else:\n",
        "            fp[p] += 1\n",
        "            fn[a] += 1\n",
        "\n",
        "    accuracy = sum(tp) / n\n",
        "\n",
        "    precision = [tp[i] / (tp[i] + fp[i]) if (tp[i] + fp[i]) > 0 else 0 for i in range(3)]\n",
        "    recall = [tp[i] / (tp[i] + fn[i]) if (tp[i] + fn[i]) > 0 else 0 for i in range(3)]\n",
        "    f1 = [\n",
        "        2 * (precision[i] * recall[i]) / (precision[i] + recall[i]) if (precision[i] + recall[i]) > 0 else 0\n",
        "        for i in range(3)\n",
        "    ]\n",
        "\n",
        "    macro_precision = sum(precision) / 3\n",
        "    macro_recall = sum(recall) / 3\n",
        "    macro_f1 = sum(f1) / 3\n",
        "\n",
        "    return accuracy, macro_precision, macro_recall, macro_f1\n",
        "\n",
        "accuracy_scratch, precision_scratch, recall_scratch, f1_scratch = calculate_metrics_from_scratch(Y_actual, Y_pred)\n",
        "\n",
        "accuracy_lib = accuracy_score(Y_actual, Y_pred)\n",
        "precision_lib = precision_score(Y_actual, Y_pred, average=\"macro\")\n",
        "recall_lib = recall_score(Y_actual, Y_pred, average=\"macro\")\n",
        "f1_lib = f1_score(Y_actual, Y_pred, average=\"macro\")\n",
        "\n",
        "print(\"Evaluation Metrics Calculated From Scratch:\")\n",
        "print(f\"Accuracy: {accuracy_scratch}\")\n",
        "print(f\"Precision (Macro): {precision_scratch}\")\n",
        "print(f\"Recall (Macro): {recall_scratch}\")\n",
        "print(f\"F1 Score (Macro): {f1_scratch}\")\n",
        "\n",
        "print(\"\\nEvaluation Metrics Calculated Using Libraries:\")\n",
        "print(f\"Accuracy: {accuracy_lib}\")\n",
        "print(f\"Precision (Macro): {precision_lib}\")\n",
        "print(f\"Recall (Macro): {recall_lib}\")\n",
        "print(f\"F1 Score (Macro): {f1_lib}\")"
      ],
      "metadata": {
        "colab": {
          "base_uri": "https://localhost:8080/"
        },
        "id": "DE08Ysho6t_B",
        "outputId": "308a0122-cbf0-48fc-f3ed-26bedf40af9a"
      },
      "execution_count": 5,
      "outputs": [
        {
          "output_type": "stream",
          "name": "stdout",
          "text": [
            "Evaluation Metrics Calculated From Scratch:\n",
            "Accuracy: 0.7333333333333333\n",
            "Precision (Macro): 0.7354497354497355\n",
            "Recall (Macro): 0.7234848484848485\n",
            "F1 Score (Macro): 0.7222222222222223\n",
            "\n",
            "Evaluation Metrics Calculated Using Libraries:\n",
            "Accuracy: 0.7333333333333333\n",
            "Precision (Macro): 0.7354497354497355\n",
            "Recall (Macro): 0.7234848484848485\n",
            "F1 Score (Macro): 0.7222222222222223\n"
          ]
        }
      ]
    }
  ]
}