{
  "nbformat": 4,
  "nbformat_minor": 0,
  "metadata": {
    "colab": {
      "provenance": []
    },
    "kernelspec": {
      "name": "python3",
      "display_name": "Python 3"
    },
    "language_info": {
      "name": "python"
    }
  },
  "cells": [
    {
      "cell_type": "code",
      "source": [
        "import numpy as np\n",
        "\n",
        "def sigmoid(x):\n",
        "    return 1 / (1 + np.exp(-x))\n",
        "\n",
        "def sigmoid_derivative(x):\n",
        "    return x * (1 - x)\n",
        "\n",
        "X_train = np.array([[0.1, 0.2], [0.2, 0.3], [0.3, 0.4], [0.6, 0.7], [0.7, 0.8], [0.8, 0.9]])\n",
        "y_train = np.array([[0.3432], [0.3490], [0.3548], [0.3720], [0.3776], [0.3832]])\n",
        "\n",
        "np.random.seed(42)\n",
        "weights_input_hidden = np.random.rand(2, 3)\n",
        "weights_hidden_output = np.random.rand(3, 1)\n",
        "bias_hidden = np.random.rand(1, 3)\n",
        "bias_output = np.random.rand(1, 1)\n",
        "\n",
        "lr = 0.01\n",
        "\n",
        "for epoch in range(10000):\n",
        "    hidden_input = np.dot(X_train, weights_input_hidden) + bias_hidden\n",
        "    hidden_output = sigmoid(hidden_input)\n",
        "    final_input = np.dot(hidden_output, weights_hidden_output) + bias_output\n",
        "    y_pred = final_input\n",
        "\n",
        "    error = y_train - y_pred\n",
        "\n",
        "    d_output = error\n",
        "    d_weights_hidden_output = np.dot(hidden_output.T, d_output)\n",
        "\n",
        "    d_hidden = np.dot(d_output, weights_hidden_output.T) * sigmoid_derivative(hidden_output)\n",
        "    d_weights_input_hidden = np.dot(X_train.T, d_hidden)\n",
        "\n",
        "    weights_hidden_output += lr * d_weights_hidden_output\n",
        "    bias_output += lr * np.sum(d_output, axis=0, keepdims=True)\n",
        "    weights_input_hidden += lr * d_weights_input_hidden\n",
        "    bias_hidden += lr * np.sum(d_hidden, axis=0, keepdims=True)\n",
        "\n",
        "def mean_squared_error(y_true, y_pred):\n",
        "    return np.mean((y_true - y_pred) ** 2)\n",
        "\n",
        "train_mse = mean_squared_error(y_train, y_pred)\n",
        "print(f\"Training MSE: {train_mse}\")\n",
        "\n",
        "X_test = np.array([[0.4, 0.5], [0.5, 0.6]])\n",
        "y_test = np.array([[0.3606], [0.3663]])\n",
        "\n",
        "hidden_input_test = np.dot(X_test, weights_input_hidden) + bias_hidden\n",
        "hidden_output_test = sigmoid(hidden_input_test)\n",
        "final_input_test = np.dot(hidden_output_test, weights_hidden_output) + bias_output\n",
        "y_pred_test = final_input_test\n",
        "\n",
        "test_mse = mean_squared_error(y_test, y_pred_test)\n",
        "print(f\"Test MSE: {test_mse}\")\n",
        "\n",
        "def predict(x1, x2):\n",
        "    input_data = np.array([[x1, x2]])\n",
        "    hidden_input = np.dot(input_data, weights_input_hidden) + bias_hidden\n",
        "    hidden_output = sigmoid(hidden_input)\n",
        "    final_input = np.dot(hidden_output, weights_hidden_output) + bias_output\n",
        "    return final_input[0][0]\n",
        "\n",
        "x1_user = float(input(\"Enter value for x1: \"))\n",
        "x2_user = float(input(\"Enter value for x2: \"))\n",
        "predicted_output = predict(x1_user, x2_user)\n",
        "print(f\"Predicted output: {predicted_output}\")\n",
        "000000"
      ],
      "metadata": {
        "colab": {
          "base_uri": "https://localhost:8080/"
        },
        "id": "ddv7-yblKb0u",
        "outputId": "486c33d1-83b4-4341-f253-47f8555bff1c"
      },
      "execution_count": 5,
      "outputs": [
        {
          "output_type": "stream",
          "name": "stdout",
          "text": [
            "Training MSE: 1.3230539866095427e-07\n",
            "Test MSE: 2.403971806971789e-07\n",
            "Enter value for x1: 0.4\n",
            "Enter value for x2: 0.5\n",
            "Predicted output: 0.36003319434071923\n"
          ]
        }
      ]
    }
  ]
}