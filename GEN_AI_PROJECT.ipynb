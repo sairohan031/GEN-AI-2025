import requests

# 1. Replace with your actual API key (keep the "Bearer " prefix)
DEEPINFRA_API_KEY = "kaHQgVQuTJuUaT2J58ZoKJsGxXEvwBP2"  # ← Get from https://deepinfra.com/dash/api_keys

# 2. Try a smaller model if 70B fails
API_URL = "https://api.deepinfra.com/v1/inference/mistralai/Mistral-7B-Instruct-v0.1"

headers = {
    "Authorization": f"Bearer {DEEPINFRA_API_KEY}",
    "Content-Type": "application/json"
}

def generate_text(prompt):
    data = {
        "input": prompt,
        "max_new_tokens": 200
    }
    try:
        response = requests.post(API_URL, headers=headers, json=data)
        response.raise_for_status()  # Raises HTTPError for bad responses
        result = response.json()

        # Print raw response for debugging
        print("Debug - Raw API Response:", result)

        # Handle different response formats
        if 'results' in result:
            return result['results'][0]['generated_text']
        elif 'output' in result:
            return result['output']
        else:
            return str(result)  # Fallback

    except requests.exceptions.HTTPError as e:
        return f"HTTP Error: {e.response.text}"
    except Exception as e:
        return f"Error: {str(e)}"

# Test
prompt = "Write a email about sai rohan quiting his job to  respected varun instead of dear"
print(generate_text(prompt))
