{
  "nbformat": 4,
  "nbformat_minor": 0,
  "metadata": {
    "colab": {
      "provenance": [],
      "authorship_tag": "ABX9TyNekrqpDtEXQLuG4R1JTBYu",
      "include_colab_link": true
    },
    "kernelspec": {
      "name": "python3",
      "display_name": "Python 3"
    },
    "language_info": {
      "name": "python"
    }
  },
  "cells": [
    {
      "cell_type": "markdown",
      "metadata": {
        "id": "view-in-github",
        "colab_type": "text"
      },
      "source": [
        "<a href=\"https://colab.research.google.com/github/sairohan031/GEN-AI-2025/blob/main/GEN_AI_PROJECT.ipynb\" target=\"_parent\"><img src=\"https://colab.research.google.com/assets/colab-badge.svg\" alt=\"Open In Colab\"/></a>"
      ]
    },
    {
      "cell_type": "code",
      "source": [
        "# Install the Lamini library\n",
        "!pip install lamini\n",
        "\n",
        "# Import necessary libraries\n",
        "import os\n",
        "import lamini\n",
        "\n",
        "# Set your Lamini API key\n",
        "LAMINI_API_KEY = \"4c1a9fa377413087955f8393f12832f4d57ee7d4d0056530caa2032f0664d3c4\"  # Replace with your actual API key\n",
        "lamini.api_key = LAMINI_API_KEY\n",
        "\n",
        "# Load the Lamini model\n",
        "llm = lamini.Lamini(\"meta-llama/Llama-3.2-3B-Instruct\")\n",
        "\n",
        "# Define the function to generate email\n",
        "def generate_email(recipient_name, context):\n",
        "    prompt =(f\"Write a formal email expressing interest in participating in a movie contest. \"\n",
        "              f\"Address it to {recipient_name}. \"\n",
        "              f\"Include the following context: {context}. \"\n",
        "              f\"Sign off with {your_name}. \"\n",
        "              f\"Do not include any additional notes.\")\n",
        "\n",
        "    response = llm.generate(prompt)\n",
        "    return response\n",
        "\n",
        "# Example usage\n",
        "recipient = \"rohan\"\n",
        "context = \"need 3 weeks leave for office.\"\n",
        "your_name=\"rahul\"\n",
        "email_content = generate_email(recipient, context)\n",
        "\n",
        "# Print the generated email\n",
        "print(email_content)"
      ],
      "metadata": {
        "colab": {
          "base_uri": "https://localhost:8080/"
        },
        "id": "1BZCVZvbbrGP",
        "outputId": "5a76a50f-7478-455e-bb75-74cdce098c0b"
      },
      "execution_count": 38,
      "outputs": [
        {
          "output_type": "stream",
          "name": "stdout",
          "text": [
            "Requirement already satisfied: lamini in /usr/local/lib/python3.11/dist-packages (3.2.12)\n",
            "Requirement already satisfied: lamini-configuration[yaml] in /usr/local/lib/python3.11/dist-packages (from lamini) (0.8.3)\n",
            "Requirement already satisfied: requests in /usr/local/lib/python3.11/dist-packages (from lamini) (2.32.3)\n",
            "Requirement already satisfied: tqdm in /usr/local/lib/python3.11/dist-packages (from lamini) (4.67.1)\n",
            "Requirement already satisfied: numpy<2.0.0 in /usr/local/lib/python3.11/dist-packages (from lamini) (1.26.4)\n",
            "Requirement already satisfied: jsonlines in /usr/local/lib/python3.11/dist-packages (from lamini) (4.0.0)\n",
            "Requirement already satisfied: pandas in /usr/local/lib/python3.11/dist-packages (from lamini) (2.2.2)\n",
            "Requirement already satisfied: azure-storage-blob in /usr/local/lib/python3.11/dist-packages (from lamini) (12.24.1)\n",
            "Requirement already satisfied: scikit-learn in /usr/local/lib/python3.11/dist-packages (from lamini) (1.6.1)\n",
            "Requirement already satisfied: aiohttp in /usr/local/lib/python3.11/dist-packages (from lamini) (3.11.13)\n",
            "Requirement already satisfied: faiss-cpu in /usr/local/lib/python3.11/dist-packages (from lamini) (1.10.0)\n",
            "Requirement already satisfied: openai in /usr/local/lib/python3.11/dist-packages (from lamini) (1.61.1)\n",
            "Requirement already satisfied: aiohappyeyeballs>=2.3.0 in /usr/local/lib/python3.11/dist-packages (from aiohttp->lamini) (2.5.0)\n",
            "Requirement already satisfied: aiosignal>=1.1.2 in /usr/local/lib/python3.11/dist-packages (from aiohttp->lamini) (1.3.2)\n",
            "Requirement already satisfied: attrs>=17.3.0 in /usr/local/lib/python3.11/dist-packages (from aiohttp->lamini) (25.1.0)\n",
            "Requirement already satisfied: frozenlist>=1.1.1 in /usr/local/lib/python3.11/dist-packages (from aiohttp->lamini) (1.5.0)\n",
            "Requirement already satisfied: multidict<7.0,>=4.5 in /usr/local/lib/python3.11/dist-packages (from aiohttp->lamini) (6.1.0)\n",
            "Requirement already satisfied: propcache>=0.2.0 in /usr/local/lib/python3.11/dist-packages (from aiohttp->lamini) (0.3.0)\n",
            "Requirement already satisfied: yarl<2.0,>=1.17.0 in /usr/local/lib/python3.11/dist-packages (from aiohttp->lamini) (1.18.3)\n",
            "Requirement already satisfied: azure-core>=1.30.0 in /usr/local/lib/python3.11/dist-packages (from azure-storage-blob->lamini) (1.32.0)\n",
            "Requirement already satisfied: cryptography>=2.1.4 in /usr/local/lib/python3.11/dist-packages (from azure-storage-blob->lamini) (43.0.3)\n",
            "Requirement already satisfied: typing-extensions>=4.6.0 in /usr/local/lib/python3.11/dist-packages (from azure-storage-blob->lamini) (4.12.2)\n",
            "Requirement already satisfied: isodate>=0.6.1 in /usr/local/lib/python3.11/dist-packages (from azure-storage-blob->lamini) (0.7.2)\n",
            "Requirement already satisfied: packaging in /usr/local/lib/python3.11/dist-packages (from faiss-cpu->lamini) (24.2)\n",
            "Requirement already satisfied: pyyaml<7.0,>=6.0 in /usr/local/lib/python3.11/dist-packages (from lamini-configuration[yaml]->lamini) (6.0.2)\n",
            "Requirement already satisfied: anyio<5,>=3.5.0 in /usr/local/lib/python3.11/dist-packages (from openai->lamini) (3.7.1)\n",
            "Requirement already satisfied: distro<2,>=1.7.0 in /usr/local/lib/python3.11/dist-packages (from openai->lamini) (1.9.0)\n",
            "Requirement already satisfied: httpx<1,>=0.23.0 in /usr/local/lib/python3.11/dist-packages (from openai->lamini) (0.28.1)\n",
            "Requirement already satisfied: jiter<1,>=0.4.0 in /usr/local/lib/python3.11/dist-packages (from openai->lamini) (0.8.2)\n",
            "Requirement already satisfied: pydantic<3,>=1.9.0 in /usr/local/lib/python3.11/dist-packages (from openai->lamini) (2.10.6)\n",
            "Requirement already satisfied: sniffio in /usr/local/lib/python3.11/dist-packages (from openai->lamini) (1.3.1)\n",
            "Requirement already satisfied: python-dateutil>=2.8.2 in /usr/local/lib/python3.11/dist-packages (from pandas->lamini) (2.8.2)\n",
            "Requirement already satisfied: pytz>=2020.1 in /usr/local/lib/python3.11/dist-packages (from pandas->lamini) (2025.1)\n",
            "Requirement already satisfied: tzdata>=2022.7 in /usr/local/lib/python3.11/dist-packages (from pandas->lamini) (2025.1)\n",
            "Requirement already satisfied: charset-normalizer<4,>=2 in /usr/local/lib/python3.11/dist-packages (from requests->lamini) (3.4.1)\n",
            "Requirement already satisfied: idna<4,>=2.5 in /usr/local/lib/python3.11/dist-packages (from requests->lamini) (3.10)\n",
            "Requirement already satisfied: urllib3<3,>=1.21.1 in /usr/local/lib/python3.11/dist-packages (from requests->lamini) (2.3.0)\n",
            "Requirement already satisfied: certifi>=2017.4.17 in /usr/local/lib/python3.11/dist-packages (from requests->lamini) (2025.1.31)\n",
            "Requirement already satisfied: scipy>=1.6.0 in /usr/local/lib/python3.11/dist-packages (from scikit-learn->lamini) (1.13.1)\n",
            "Requirement already satisfied: joblib>=1.2.0 in /usr/local/lib/python3.11/dist-packages (from scikit-learn->lamini) (1.4.2)\n",
            "Requirement already satisfied: threadpoolctl>=3.1.0 in /usr/local/lib/python3.11/dist-packages (from scikit-learn->lamini) (3.5.0)\n",
            "Requirement already satisfied: six>=1.11.0 in /usr/local/lib/python3.11/dist-packages (from azure-core>=1.30.0->azure-storage-blob->lamini) (1.17.0)\n",
            "Requirement already satisfied: cffi>=1.12 in /usr/local/lib/python3.11/dist-packages (from cryptography>=2.1.4->azure-storage-blob->lamini) (1.17.1)\n",
            "Requirement already satisfied: httpcore==1.* in /usr/local/lib/python3.11/dist-packages (from httpx<1,>=0.23.0->openai->lamini) (1.0.7)\n",
            "Requirement already satisfied: h11<0.15,>=0.13 in /usr/local/lib/python3.11/dist-packages (from httpcore==1.*->httpx<1,>=0.23.0->openai->lamini) (0.14.0)\n",
            "Requirement already satisfied: annotated-types>=0.6.0 in /usr/local/lib/python3.11/dist-packages (from pydantic<3,>=1.9.0->openai->lamini) (0.7.0)\n",
            "Requirement already satisfied: pydantic-core==2.27.2 in /usr/local/lib/python3.11/dist-packages (from pydantic<3,>=1.9.0->openai->lamini) (2.27.2)\n",
            "Requirement already satisfied: pycparser in /usr/local/lib/python3.11/dist-packages (from cffi>=1.12->cryptography>=2.1.4->azure-storage-blob->lamini) (2.22)\n",
            " \n",
            "\n",
            "Subject: Participation in Movie Contest\n",
            "\n",
            "Dear Rohan,\n",
            "\n",
            "I am writing to express my interest in participating in the movie contest. I have been following the contest and I am impressed by the quality of the entries. I believe that my skills and experience would be a good fit for the contest.\n",
            "\n",
            "I would like to request three weeks leave from the office to focus on the contest. I will ensure that all my tasks are completed before I leave and make arrangements for my work to be covered during my absence.\n",
            "\n",
            "I look forward to hearing back from you regarding my participation in the contest.\n",
            "\n",
            "Sincerely,\n",
            "Rahul.\n"
          ]
        }
      ]
    },
    {
      "cell_type": "code",
      "source": [],
      "metadata": {
        "id": "k5obeL804Npu"
      },
      "execution_count": null,
      "outputs": []
    }
  ]
}