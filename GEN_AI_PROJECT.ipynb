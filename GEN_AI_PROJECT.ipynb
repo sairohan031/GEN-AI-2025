{
  "nbformat": 4,
  "nbformat_minor": 0,
  "metadata": {
    "colab": {
      "provenance": [],
      "authorship_tag": "ABX9TyM/yU6o0RZWoKdt5JQWt7qM",
      "include_colab_link": true
    },
    "kernelspec": {
      "name": "python3",
      "display_name": "Python 3"
    },
    "language_info": {
      "name": "python"
    }
  },
  "cells": [
    {
      "cell_type": "markdown",
      "metadata": {
        "id": "view-in-github",
        "colab_type": "text"
      },
      "source": [
        "<a href=\"https://colab.research.google.com/github/sairohan031/GEN-AI-2025/blob/main/GEN_AI_PROJECT.ipynb\" target=\"_parent\"><img src=\"https://colab.research.google.com/assets/colab-badge.svg\" alt=\"Open In Colab\"/></a>"
      ]
    },
    {
      "cell_type": "code",
      "source": [
        "import requests\n",
        "\n",
        "DEEPINFRA_API_KEY = \"kaHQgVQuTJuUaT2J58ZoKJsGxXEvwBP2\"\n",
        "\n",
        "API_URL = \"https://api.deepinfra.com/v1/inference/mistralai/Mistral-7B-Instruct-v0.1\"\n",
        "\n",
        "headers = {\n",
        "    \"Authorization\": f\"Bearer {DEEPINFRA_API_KEY}\",\n",
        "    \"Content-Type\": \"application/json\"\n",
        "}\n",
        "\n",
        "def generate_text(prompt):\n",
        "    data = {\n",
        "        \"input\": prompt,\n",
        "        \"max_new_tokens\": 200\n",
        "    }\n",
        "    try:\n",
        "        response = requests.post(API_URL, headers=headers, json=data)\n",
        "        response.raise_for_status()\n",
        "        result = response.json()\n",
        "\n",
        "        print(\"Debug - Raw API Response:\", result)\n",
        "\n",
        "        if 'results' in result:\n",
        "            return result['results'][0]['generated_text']\n",
        "        elif 'output' in result:\n",
        "            return result['output']\n",
        "        else:\n",
        "            return str(result)\n",
        "\n",
        "    except requests.exceptions.HTTPError as e:\n",
        "        return f\"HTTP Error: {e.response.text}\"\n",
        "    except Exception as e:\n",
        "        return f\"Error: {str(e)}\"\n",
        "\n",
        "prompt = \"Write a email about sai rohan quiting his job to  respected varun\"\n",
        "print(generate_text(prompt))"
      ],
      "metadata": {
        "id": "ktWdaIskctBn",
        "colab": {
          "base_uri": "https://localhost:8080/"
        },
        "outputId": "977e9399-cb18-4cff-8685-7cd649f4f103"
      },
      "execution_count": null,
      "outputs": [
        {
          "output_type": "stream",
          "name": "stdout",
          "text": [
            "Debug - Raw API Response: {'request_id': 'Rf1dH1w34AxDMTCG9aoPYZMw', 'inference_status': {'runtime_ms': 2272, 'cost': 1.1580000000000001e-05, 'tokens_generated': 200, 'tokens_input': 20}, 'results': [{'generated_text': \" varun\\n\\nSubject: Notice of Resignation\\n\\nDear Respected Varun,\\n\\nI hope this email finds you well. I am writing to formally announce my resignation from my position at [Company Name], effective [last working day, typically two weeks from the date of the email].\\n\\nOver the past [number of years/months], I have greatly enjoyed working with you and the entire team. However, after careful consideration, I have decided to pursue a new opportunity that aligns more closely with my long-term career goals.\\n\\nI want to express my sincere gratitude for the opportunities I've had to grow both personally and professionally during my tenure here. I am grateful for the support and guidance you have provided me throughout my time at the company.\\n\\nIn the coming weeks, I will do everything possible to ensure a smooth transition. I am more than willing to assist in finding and training a replacement, as well as completing\"}], 'num_tokens': 200, 'num_input_tokens': 20}\n",
            " varun\n",
            "\n",
            "Subject: Notice of Resignation\n",
            "\n",
            "Dear Respected Varun,\n",
            "\n",
            "I hope this email finds you well. I am writing to formally announce my resignation from my position at [Company Name], effective [last working day, typically two weeks from the date of the email].\n",
            "\n",
            "Over the past [number of years/months], I have greatly enjoyed working with you and the entire team. However, after careful consideration, I have decided to pursue a new opportunity that aligns more closely with my long-term career goals.\n",
            "\n",
            "I want to express my sincere gratitude for the opportunities I've had to grow both personally and professionally during my tenure here. I am grateful for the support and guidance you have provided me throughout my time at the company.\n",
            "\n",
            "In the coming weeks, I will do everything possible to ensure a smooth transition. I am more than willing to assist in finding and training a replacement, as well as completing\n"
          ]
        }
      ]
    }
  ]
}